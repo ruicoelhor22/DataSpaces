{
 "cells": [
  {
   "cell_type": "code",
   "execution_count": 3,
   "id": "c3c06b41",
   "metadata": {},
   "outputs": [
    {
     "ename": "ModuleNotFoundError",
     "evalue": "No module named 'utils'",
     "output_type": "error",
     "traceback": [
      "\u001b[31m---------------------------------------------------------------------------\u001b[39m",
      "\u001b[31mModuleNotFoundError\u001b[39m                       Traceback (most recent call last)",
      "\u001b[36mCell\u001b[39m\u001b[36m \u001b[39m\u001b[32mIn[3]\u001b[39m\u001b[32m, line 1\u001b[39m\n\u001b[32m----> \u001b[39m\u001b[32m1\u001b[39m \u001b[38;5;28;01mfrom\u001b[39;00m\u001b[38;5;250m \u001b[39m\u001b[34;01mutils\u001b[39;00m\u001b[38;5;250m \u001b[39m\u001b[38;5;28;01mimport\u001b[39;00m common\n",
      "\u001b[31mModuleNotFoundError\u001b[39m: No module named 'utils'"
     ]
    }
   ],
   "source": [
    "from utils import common"
   ]
  },
  {
   "cell_type": "code",
   "execution_count": null,
   "id": "c9aae960",
   "metadata": {},
   "outputs": [
    {
     "name": "stdout",
     "output_type": "stream",
     "text": [
      "raw/!!DO_NOT_DELETE!!.txt\n",
      "raw/Evening_Ride.fit\n",
      "raw/Evening_Ride.tcx\n",
      "raw/Solo_Ride.fit\n"
     ]
    }
   ],
   "source": [
    "#Create S3 client for Supabase \n",
    "s3 = common.get_s3_client() \n",
    "\n",
    "#Example: list files in \"raw/\" folder \n",
    "response = s3.list_objects_v2(Bucket=bucket_name, Prefix=\"raw/\") \n",
    "for obj in response.get(\"Contents\", []): \n",
    "    print(obj[\"Key\"]) \n"
   ]
  },
  {
   "cell_type": "code",
   "execution_count": 3,
   "id": "041cdecb",
   "metadata": {},
   "outputs": [],
   "source": [
    "import xml.etree.ElementTree as ET\n",
    "import pandas as pd\n",
    "from fitparse import FitFile\n",
    "import numpy as np\n",
    "import os\n",
    "from io import BytesIO  # Needed for FIT parsing\n",
    "\n",
    "def get_activity_date(file_bytes, extension): \n",
    "    if extension == \".fit\":\n",
    "        try:\n",
    "            fitfile = FitFile(BytesIO(file_bytes))  \n",
    "            for record in fitfile.get_messages('record'):\n",
    "                for field in record:\n",
    "                    if field.name == \"timestamp\":\n",
    "                        return field.value.date().isoformat()\n",
    "        except Exception as e:\n",
    "            print(f\"Failed to parse .fit file: {e}\") \n",
    "    elif extension == \".tcx\":\n",
    "        try:\n",
    "            tree = ET.ElementTree(ET.fromstring(file_bytes.decode(\"utf-8\")))\n",
    "            namespaces = {'tcx': 'http://www.garmin.com/xmlschemas/TrainingCenterDatabase/v2'}\n",
    "            time_elem = tree.find('.//tcx:Trackpoint/tcx:Time', namespaces)\n",
    "            if time_elem is not None:\n",
    "                return pd.to_datetime(time_elem.text).date().isoformat()\n",
    "        except Exception as e:\n",
    "            print(f\"Failed to parse .tcx file: {e}\")\n",
    "    return \"unknown\"\n"
   ]
  },
  {
   "cell_type": "code",
   "execution_count": 4,
   "id": "f5d61d83",
   "metadata": {},
   "outputs": [
    {
     "name": "stdout",
     "output_type": "stream",
     "text": [
      "Moved: raw/Evening_Ride.fit ➜ bronze/original/bronze_activity_2025-04-14_6a1e0cfe.fit\n",
      "Moved: raw/Evening_Ride.tcx ➜ bronze/original/bronze_activity_2025-04-14_493c8809.tcx\n",
      "Moved: raw/Solo_Ride.fit ➜ bronze/original/bronze_activity_2025-04-26_1f6a6649.fit\n"
     ]
    }
   ],
   "source": [
    "import uuid\n",
    "\n",
    "response = s3.list_objects_v2(Bucket=bucket_name, Prefix=\"raw/\")\n",
    "for obj in response.get(\"Contents\", []):\n",
    "    raw_key = obj[\"Key\"]\n",
    "    if not raw_key.endswith((\".fit\", \".tcx\")):\n",
    "        continue\n",
    "\n",
    "    # Download raw bytes only for parsing (safe, read-only)\n",
    "    raw_obj = s3.get_object(Bucket=bucket_name, Key=raw_key)\n",
    "    file_bytes = raw_obj[\"Body\"].read()\n",
    "    extension = os.path.splitext(raw_key)[-1]\n",
    "\n",
    "    # Extract activity date\n",
    "    activity_date = get_activity_date(file_bytes, extension)\n",
    "    if activity_date == \"unknown\":\n",
    "        print(f\"Could not extract date from {raw_key}\")\n",
    "        continue\n",
    "\n",
    "    short_id = str(uuid.uuid4())[:8]\n",
    "    new_key = f\"bronze/original/bronze_activity_{activity_date}_{short_id}{extension}\"\n",
    "\n",
    "    # Safe move: Copy then delete\n",
    "    s3.copy_object(\n",
    "        Bucket=bucket_name,\n",
    "        CopySource={'Bucket': bucket_name, 'Key': raw_key},\n",
    "        Key=new_key\n",
    "    )\n",
    "    s3.delete_object(Bucket=bucket_name, Key=raw_key)\n",
    "\n",
    "    print(f\"Moved: {raw_key} ➜ {new_key}\")\n"
   ]
  }
 ],
 "metadata": {
  "kernelspec": {
   "display_name": "Python 3",
   "language": "python",
   "name": "python3"
  },
  "language_info": {
   "codemirror_mode": {
    "name": "ipython",
    "version": 3
   },
   "file_extension": ".py",
   "mimetype": "text/x-python",
   "name": "python",
   "nbconvert_exporter": "python",
   "pygments_lexer": "ipython3",
   "version": "3.12.1"
  }
 },
 "nbformat": 4,
 "nbformat_minor": 5
}
