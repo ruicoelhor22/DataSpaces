{
 "cells": [
  {
   "cell_type": "code",
   "execution_count": null,
   "id": "e7c1170d",
   "metadata": {},
   "outputs": [],
   "source": [
    "import sys, os\n",
    "project_root = os.path.abspath(os.path.join(os.getcwd(), \"../../\"))\n",
    "if project_root not in sys.path:\n",
    "    sys.path.insert(0, project_root)\n",
    "from dataspaces_utils.common import get_s3_client, bucket, pd\n",
    "import xml.etree.ElementTree as ET\n",
    "import pandas as pd\n",
    "from fitparse import FitFile\n",
    "import os\n",
    "from io import BytesIO  \n",
    "import uuid"
   ]
  },
  {
   "cell_type": "code",
   "execution_count": null,
   "id": "c9aae960",
   "metadata": {},
   "outputs": [
    {
     "name": "stdout",
     "output_type": "stream",
     "text": [
      "raw/!!DO_NOT_DELETE!!.txt\n",
      "raw/Evening_Ride.fit\n",
      "raw/Evening_Ride.tcx\n",
      "raw/Solo_Ride.fit\n"
     ]
    }
   ],
   "source": [
    "#Create S3 client for Supabase \n",
    "s3 = get_s3_client() \n",
    "\n",
    "#List files in \"raw/\" folder \n",
    "response = s3.list_objects_v2(Bucket=bucket, Prefix=\"raw/\") \n",
    "for obj in response.get(\"Contents\", []): \n",
    "    print(obj[\"Key\"]) "
   ]
  },
  {
   "cell_type": "code",
   "execution_count": null,
   "id": "041cdecb",
   "metadata": {},
   "outputs": [],
   "source": [
    "#Function to extract date from activity data \n",
    "def get_activity_date(file_bytes, extension): \n",
    "    if extension == \".fit\":\n",
    "        try:\n",
    "            fitfile = FitFile(BytesIO(file_bytes))  \n",
    "            for record in fitfile.get_messages('record'):\n",
    "                for field in record:\n",
    "                    if field.name == \"timestamp\":\n",
    "                        return field.value.date().isoformat()\n",
    "        except Exception as e:\n",
    "            print(f\"Failed to parse .fit file: {e}\") \n",
    "    elif extension == \".tcx\":\n",
    "        try:\n",
    "            tree = ET.ElementTree(ET.fromstring(file_bytes.decode(\"utf-8\")))\n",
    "            namespaces = {'tcx': 'http://www.garmin.com/xmlschemas/TrainingCenterDatabase/v2'}\n",
    "            time_elem = tree.find('.//tcx:Trackpoint/tcx:Time', namespaces)\n",
    "            if time_elem is not None:\n",
    "                return pd.to_datetime(time_elem.text).date().isoformat()\n",
    "        except Exception as e:\n",
    "            print(f\"Failed to parse .tcx file: {e}\")\n",
    "    return \"unknown\"\n"
   ]
  },
  {
   "cell_type": "code",
   "execution_count": null,
   "id": "f5d61d83",
   "metadata": {},
   "outputs": [
    {
     "name": "stdout",
     "output_type": "stream",
     "text": [
      "Moved: raw/Evening_Ride.fit ➜ bronze/original/bronze_activity_2025-04-14_bf81db1b.fit\n",
      "Moved: raw/Evening_Ride.tcx ➜ bronze/original/bronze_activity_2025-04-14_f5a06ce9.tcx\n",
      "Moved: raw/Solo_Ride.fit ➜ bronze/original/bronze_activity_2025-04-26_2ff07ffe.fit\n"
     ]
    }
   ],
   "source": [
    "response = s3.list_objects_v2(Bucket=bucket, Prefix=\"raw/\")\n",
    "\n",
    "for obj in response.get(\"Contents\", []):\n",
    "    raw_key = obj[\"Key\"]\n",
    "    if not raw_key.endswith((\".fit\", \".tcx\")):\n",
    "        continue\n",
    "\n",
    "    # Download raw bytes only for parsing (safe, read-only)\n",
    "    raw_obj = s3.get_object(Bucket=bucket, Key=raw_key)\n",
    "    file_bytes = raw_obj[\"Body\"].read()\n",
    "    extension = os.path.splitext(raw_key)[-1]\n",
    "\n",
    "    # Extract activity date\n",
    "    activity_date = get_activity_date(file_bytes, extension)\n",
    "    if activity_date == \"unknown\":\n",
    "        print(f\"Could not extract date from {raw_key}\")\n",
    "        continue\n",
    "\n",
    "    short_id = str(uuid.uuid4())[:8]\n",
    "    new_key = f\"bronze/original/bronze_activity_{activity_date}_{short_id}{extension}\"\n",
    "\n",
    "    # Rename file, copy to bronze/original and delete from raw folder\n",
    "    s3.copy_object(\n",
    "        Bucket=bucket,\n",
    "        CopySource={'Bucket': bucket, 'Key': raw_key},\n",
    "        Key=new_key\n",
    "    )\n",
    "    s3.delete_object(Bucket=bucket, Key=raw_key)\n",
    "\n",
    "    print(f\"Moved: {raw_key} ➜ {new_key}\")\n"
   ]
  }
 ],
 "metadata": {
  "kernelspec": {
   "display_name": "Python 3",
   "language": "python",
   "name": "python3"
  },
  "language_info": {
   "codemirror_mode": {
    "name": "ipython",
    "version": 3
   },
   "file_extension": ".py",
   "mimetype": "text/x-python",
   "name": "python",
   "nbconvert_exporter": "python",
   "pygments_lexer": "ipython3",
   "version": "3.12.1"
  }
 },
 "nbformat": 4,
 "nbformat_minor": 5
}
