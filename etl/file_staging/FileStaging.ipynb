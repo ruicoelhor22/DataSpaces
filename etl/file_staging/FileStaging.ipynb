{
 "cells": [
  {
   "cell_type": "code",
   "execution_count": 21,
   "id": "c3c06b41",
   "metadata": {},
   "outputs": [],
   "source": [
    "#Load secrets from .env \n",
    "import boto3\n",
    "import os\n",
    "from dotenv import load_dotenv\n",
    "from io import BytesIO\n",
    "\n",
    "load_dotenv() \n",
    "\n",
    "#Read credentials \n",
    "s3_endpoint = os.getenv(\"SUPABASE_S3_ENDPOINT\") \n",
    "s3_key_id = os.getenv(\"SUPABASE_S3_KEY_ID\") \n",
    "s3_key = os.getenv(\"SUPABASE_S3_SECRET\") \n",
    "bucket_name = os.getenv(\"SUPABASE_BUCKET\") "
   ]
  },
  {
   "cell_type": "code",
   "execution_count": 22,
   "id": "c9aae960",
   "metadata": {},
   "outputs": [
    {
     "name": "stdout",
     "output_type": "stream",
     "text": [
      "raw/!!DO_NOT_DELETE!!.txt\n",
      "raw/Evening_Ride.fit\n",
      "raw/Evening_Ride.tcx\n",
      "raw/Solo_Ride.fit\n"
     ]
    }
   ],
   "source": [
    "#Create S3 client for Supabase \n",
    "s3 = boto3.client( \n",
    "    's3', \n",
    "    endpoint_url=s3_endpoint, \n",
    "    aws_access_key_id=s3_key_id, \n",
    "    aws_secret_access_key=s3_key \n",
    "    ) \n",
    "\n",
    "#Example: list files in \"raw/\" folder \n",
    "response = s3.list_objects_v2(Bucket=bucket_name, Prefix=\"raw/\") \n",
    "for obj in response.get(\"Contents\", []): \n",
    "    print(obj[\"Key\"]) \n"
   ]
  },
  {
   "cell_type": "code",
   "execution_count": 23,
   "id": "041cdecb",
   "metadata": {},
   "outputs": [],
   "source": [
    "import xml.etree.ElementTree as ET\n",
    "import pandas as pd\n",
    "from fitparse import FitFile\n",
    "import numpy as np\n",
    "import os\n",
    "\n",
    "def get_activity_date(file_bytes, extension): \n",
    "    if extension == \".fit\":\n",
    "        try:\n",
    "            fitfile = FitFile(BytesIO(file_bytes))  \n",
    "            for record in fitfile.get_messages('record'):\n",
    "                for field in record:\n",
    "                    if field.name == \"timestamp\":\n",
    "                        return field.value.date().isoformat()\n",
    "        except Exception as e:\n",
    "            print(f\"Failed to parse .fit file: {e}\") \n",
    "    elif extension == \".tcx\":\n",
    "        try:\n",
    "            tree = ET.ElementTree(ET.fromstring(file_bytes))\n",
    "            namespaces = {'tcx': 'http://www.garmin.com/xmlschemas/TrainingCenterDatabase/v2'}\n",
    "            time_elem = tree.find('.//tcx:Trackpoint/tcx:Time', namespaces)\n",
    "            if time_elem is not None:\n",
    "                return pd.to_datetime(time_elem.text).date().isoformat()\n",
    "        except Exception as e:\n",
    "            print(f\"Failed to parse .tcx file: {e}\")\n",
    "    return \"unknown\" "
   ]
  },
  {
   "cell_type": "code",
   "execution_count": 24,
   "id": "f5d61d83",
   "metadata": {},
   "outputs": [
    {
     "name": "stdout",
     "output_type": "stream",
     "text": [
      "Moved: raw/Evening_Ride.fit ➜ bronze/original/bronze_activity_2025-04-14_5047d1b5.fit\n",
      "Moved: raw/Evening_Ride.tcx ➜ bronze/original/bronze_activity_2025-04-14_d42c58d2.tcx\n",
      "Moved: raw/Solo_Ride.fit ➜ bronze/original/bronze_activity_2025-04-26_1020f1ec.fit\n"
     ]
    }
   ],
   "source": [
    "#Process files in /raw/ \n",
    "import uuid\n",
    "\n",
    "response = s3.list_objects_v2(Bucket=bucket_name, Prefix=\"raw/\") \n",
    "for obj in response.get(\"Contents\", []): \n",
    "    raw_key = obj[\"Key\"] \n",
    "    if not raw_key.endswith((\".fit\", \".tcx\")): \n",
    "        continue \n",
    " \n",
    "    raw_obj = s3.get_object(Bucket=bucket_name, Key=raw_key) \n",
    "    file_bytes = raw_obj[\"Body\"].read() \n",
    "    extension = os.path.splitext(raw_key)[-1] \n",
    "    \n",
    "    activity_date = get_activity_date(file_bytes, extension) \n",
    "    if activity_date == \"unknown\": \n",
    "        print(f\"Could not extract date from {raw_key}\") \n",
    "        continue \n",
    " \n",
    "    short_id = str(uuid.uuid4())[:8] \n",
    "    bronze_key = f\"bronze/original/bronze_activity_{activity_date}_{short_id}{extension}\" \n",
    "    \n",
    "    # Upload renamed file to bronze/ \n",
    "    s3.put_object(Bucket=bucket_name, Key=bronze_key, Body=file_bytes) \n",
    "    \n",
    "    # Delete original \n",
    "    s3.delete_object(Bucket=bucket_name, Key=raw_key) \n",
    "    \n",
    "    print(f\"Moved: {raw_key} ➜ {bronze_key}\")\n",
    "\n",
    "\n",
    "#####ONLY WORKING FOR THE TCX FILES FOR NOW"
   ]
  }
 ],
 "metadata": {
  "kernelspec": {
   "display_name": "Python 3",
   "language": "python",
   "name": "python3"
  },
  "language_info": {
   "codemirror_mode": {
    "name": "ipython",
    "version": 3
   },
   "file_extension": ".py",
   "mimetype": "text/x-python",
   "name": "python",
   "nbconvert_exporter": "python",
   "pygments_lexer": "ipython3",
   "version": "3.12.1"
  }
 },
 "nbformat": 4,
 "nbformat_minor": 5
}
